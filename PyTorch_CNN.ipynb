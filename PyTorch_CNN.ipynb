{
 "cells": [
  {
   "cell_type": "markdown",
   "metadata": {},
   "source": [
    "# Задание 3.2 - сверточные нейронные сети (CNNs) в PyTorch\n",
    "\n",
    "Это упражнение мы буде выполнять в Google Colab - https://colab.research.google.com/  \n",
    "Google Colab позволяет запускать код в notebook в облаке Google, где можно воспользоваться бесплатным GPU!  \n",
    "\n",
    "Авторы курса благодарят компанию Google и надеятся, что праздник не закончится.\n",
    "\n",
    "Туториал по настройке Google Colab:  \n",
    "https://medium.com/deep-learning-turkey/google-colab-free-gpu-tutorial-e113627b9f5d  \n",
    "(Keras инсталлировать не нужно, наш notebook сам установит PyTorch)\n"
   ]
  },
  {
   "cell_type": "code",
   "execution_count": 11,
   "metadata": {
    "colab": {},
    "colab_type": "code",
    "id": "FcXBeP1O7cnY",
    "scrolled": true
   },
   "outputs": [
    {
     "name": "stdout",
     "output_type": "stream",
     "text": [
      "Requirement already satisfied: torch in /home/alex/.local/lib/python3.8/site-packages (1.6.0)\r\n",
      "Requirement already satisfied: torchvision in /home/alex/.local/lib/python3.8/site-packages (0.7.0)\r\n",
      "Requirement already satisfied: numpy in /home/alex/.local/lib/python3.8/site-packages (from torch) (1.19.1)\r\n",
      "Requirement already satisfied: future in /usr/lib/python3/dist-packages (from torch) (0.18.2)\r\n",
      "Requirement already satisfied: pillow>=4.1.1 in /usr/lib/python3/dist-packages (from torchvision) (7.0.0)\r\n"
     ]
    }
   ],
   "source": [
    "# Intstall PyTorch and download data\n",
    "!pip3 install torch torchvision\n",
    "\n",
    "# !wget -c http://ufldl.stanford.edu/housenumbers/train_32x32.mat http://ufldl.stanford.edu/housenumbers/test_32x32.mat"
   ]
  },
  {
   "cell_type": "code",
   "execution_count": 1,
   "metadata": {
    "colab": {},
    "colab_type": "code",
    "id": "-afwWw-Q85vD"
   },
   "outputs": [],
   "source": [
    "from collections import namedtuple\n",
    "import itertools  \n",
    "\n",
    "import matplotlib.pyplot as plt\n",
    "import numpy as np\n",
    "import PIL\n",
    "import torch\n",
    "import torch.nn as nn\n",
    "import torch.optim as optim\n",
    "import torchvision.datasets as dset\n",
    "from torch.utils.data.sampler import SubsetRandomSampler\n",
    "\n",
    "from torchvision import transforms"
   ]
  },
  {
   "cell_type": "code",
   "execution_count": 2,
   "metadata": {
    "colab": {},
    "colab_type": "code",
    "id": "NNU-OD9O9ltP"
   },
   "outputs": [],
   "source": [
    "device = torch.device(\"cuda:0\") # Let's make sure GPU is available!"
   ]
  },
  {
   "cell_type": "markdown",
   "metadata": {},
   "source": [
    "# Загружаем данные"
   ]
  },
  {
   "cell_type": "code",
   "execution_count": 3,
   "metadata": {
    "colab": {},
    "colab_type": "code",
    "id": "YAvkoRx-9FsP"
   },
   "outputs": [],
   "source": [
    "# First, lets load the dataset\n",
    "data_train = dset.SVHN('data/', \n",
    "                       transform=transforms.Compose([\n",
    "                           transforms.ToTensor(),\n",
    "                           transforms.Normalize(mean=[0.43,0.44,0.47],\n",
    "                                               std=[0.20,0.20,0.20])                           \n",
    "                       ]))\n",
    "data_test = dset.SVHN('data/', split='test', transform=transforms.Compose([\n",
    "                           transforms.ToTensor(),\n",
    "                           transforms.Normalize(mean=[0.43,0.44,0.47],\n",
    "                                               std=[0.20,0.20,0.20])                           \n",
    "                       ]))"
   ]
  },
  {
   "cell_type": "markdown",
   "metadata": {},
   "source": [
    "Разделяем данные на training и validation.\n",
    "\n",
    "На всякий случай для подробностей - https://pytorch.org/tutorials/beginner/data_loading_tutorial.html"
   ]
  },
  {
   "cell_type": "code",
   "execution_count": 4,
   "metadata": {
    "colab": {},
    "colab_type": "code",
    "id": "YRnr8CPg7Hli"
   },
   "outputs": [],
   "source": [
    "batch_size = 64\n",
    "\n",
    "data_size = data_train.data.shape[0]\n",
    "validation_split = .2\n",
    "split = int(np.floor(validation_split * data_size))\n",
    "indices = list(range(data_size))\n",
    "np.random.shuffle(indices)\n",
    "\n",
    "train_indices, val_indices = indices[split:], indices[:split]\n",
    "\n",
    "train_sampler = SubsetRandomSampler(train_indices)\n",
    "val_sampler = SubsetRandomSampler(val_indices)\n",
    "\n",
    "train_loader = torch.utils.data.DataLoader(data_train, batch_size=batch_size, \n",
    "                                           sampler=train_sampler)\n",
    "val_loader = torch.utils.data.DataLoader(data_train, batch_size=batch_size,\n",
    "                                         sampler=val_sampler)"
   ]
  },
  {
   "cell_type": "code",
   "execution_count": 5,
   "metadata": {
    "colab": {},
    "colab_type": "code",
    "id": "LyYvt-T67PBG"
   },
   "outputs": [],
   "source": [
    "# We'll use a special helper module to shape it into a flat tensor\n",
    "class Flattener(nn.Module):\n",
    "    def forward(self, x):\n",
    "        batch_size, *_ = x.shape\n",
    "        return x.view(batch_size, -1)"
   ]
  },
  {
   "cell_type": "markdown",
   "metadata": {},
   "source": [
    "Создадим простейшую сеть с новыми слоями:  \n",
    "Convolutional - `nn.Conv2d`  \n",
    "MaxPool - `nn.MaxPool2d`"
   ]
  },
  {
   "cell_type": "code",
   "execution_count": 6,
   "metadata": {
    "colab": {},
    "colab_type": "code",
    "id": "w9SFVGZP7SQd"
   },
   "outputs": [],
   "source": [
    "nn_model = nn.Sequential(\n",
    "            nn.Conv2d(3, 64, 3, padding=1),\n",
    "            nn.ReLU(inplace=True),\n",
    "            nn.MaxPool2d(4),\n",
    "            nn.Conv2d(64, 64, 3, padding=1),\n",
    "            nn.ReLU(inplace=True),\n",
    "            nn.MaxPool2d(4),    \n",
    "            Flattener(),\n",
    "            nn.Linear(64*2*2, 10),\n",
    "          )\n",
    "\n",
    "nn_model.type(torch.cuda.FloatTensor)\n",
    "nn_model.to(device)\n",
    "\n",
    "loss = nn.CrossEntropyLoss().type(torch.cuda.FloatTensor)\n",
    "optimizer = optim.SGD(nn_model.parameters(), lr=1e-1, weight_decay=1e-4)"
   ]
  },
  {
   "cell_type": "markdown",
   "metadata": {},
   "source": [
    "Восстановите функцию `compute_accuracy` из прошлого задания.  \n",
    "Единственное отличие в новом - она должна передать данные на GPU прежде чем прогонять через модель. Сделайте это так же, как это делает функция `train_model`"
   ]
  },
  {
   "cell_type": "code",
   "execution_count": 7,
   "metadata": {
    "colab": {},
    "colab_type": "code",
    "id": "2ek3KVQK7hJ6"
   },
   "outputs": [],
   "source": [
    "from torch.optim.lr_scheduler import StepLR\n",
    "\n",
    "def train_model(model, train_loader, val_loader, loss, optimizer, num_epochs):    \n",
    "    loss_history = []\n",
    "    train_history = []\n",
    "    val_history = []\n",
    "    for epoch in range(num_epochs):\n",
    "        model.train() # Enter train mode\n",
    "        \n",
    "        loss_accum = 0\n",
    "        correct_samples = 0\n",
    "        total_samples = 0\n",
    "        for i_step, (x, y) in enumerate(train_loader):\n",
    "          \n",
    "            x_gpu = x.to(device)\n",
    "            y_gpu = y.to(device)\n",
    "            prediction = model(x_gpu)    \n",
    "            loss_value = loss(prediction, y_gpu)\n",
    "            optimizer.zero_grad()\n",
    "            loss_value.backward()\n",
    "            optimizer.step()\n",
    "            \n",
    "            _, indices = torch.max(prediction, 1)\n",
    "            correct_samples += torch.sum(indices == y_gpu)\n",
    "            total_samples += y.shape[0]\n",
    "            \n",
    "            loss_accum += loss_value\n",
    "\n",
    "        ave_loss = loss_accum / i_step\n",
    "        train_accuracy = float(correct_samples) / total_samples\n",
    "        val_accuracy = compute_accuracy(model, val_loader)\n",
    "        \n",
    "        loss_history.append(float(ave_loss))\n",
    "        train_history.append(train_accuracy)\n",
    "        val_history.append(val_accuracy)\n",
    "        \n",
    "        print(\"Average loss: %f, Train accuracy: %f, Val accuracy: %f\" % (ave_loss, train_accuracy, val_accuracy))\n",
    "        \n",
    "    return loss_history, train_history, val_history\n",
    "        \n",
    "def compute_accuracy(model, loader):\n",
    "    \"\"\"\n",
    "    Computes accuracy on the dataset wrapped in a loader\n",
    "    \n",
    "    Returns: accuracy as a float value between 0 and 1\n",
    "    \"\"\"\n",
    "    model.eval() # Evaluation mode\n",
    "    correct_samples = 0\n",
    "    total_samples = 0\n",
    "    for i_step, (x, y) in enumerate(loader):\n",
    "        x_gpu = x.to(device)\n",
    "        y_gpu = y.to(device)\n",
    "        \n",
    "        prediction = model(x_gpu)\n",
    "        _, indices = torch.max(prediction, 1)\n",
    "        correct_samples += torch.sum(indices == y_gpu)\n",
    "        total_samples += y.shape[0]\n",
    "    \n",
    "    accuracy = float(correct_samples) / total_samples\n",
    "    \n",
    "    return accuracy\n",
    "\n",
    "\n",
    "# loss_history, train_history, val_history = train_model(nn_model, train_loader, val_loader, loss, optimizer, 5)"
   ]
  },
  {
   "cell_type": "markdown",
   "metadata": {
    "colab_type": "text",
    "id": "6a-3a1ZFGEw_"
   },
   "source": [
    "# Аугментация данных (Data augmentation)\n",
    "\n",
    "В работе с изображениями одним из особенно важных методов является аугментация данных - то есть, генерация дополнительных данных для тренировки на основе изначальных.   \n",
    "Таким образом, мы получаем возможность \"увеличить\" набор данных для тренировки, что ведет к лучшей работе сети.\n",
    "Важно, чтобы аугментированные данные были похожи на те, которые могут встретиться в реальной жизни, иначе польза от аугментаций уменьшается и может ухудшить работу сети.\n",
    "\n",
    "С PyTorch идут несколько таких алгоритмов, называемых `transforms`. Более подробно про них можно прочитать тут -\n",
    "https://pytorch.org/tutorials/beginner/data_loading_tutorial.html#transforms\n",
    "\n",
    "Ниже мы используем следующие алгоритмы генерации:\n",
    "- ColorJitter - случайное изменение цвета\n",
    "- RandomHorizontalFlip - горизонтальное отражение с вероятностью 50%\n",
    "- RandomVerticalFlip - вертикальное отражение с вероятностью 50%\n",
    "- RandomRotation - случайный поворот"
   ]
  },
  {
   "cell_type": "code",
   "execution_count": 8,
   "metadata": {
    "colab": {},
    "colab_type": "code",
    "id": "jCWMUWmr7t5g"
   },
   "outputs": [],
   "source": [
    "tfs = transforms.Compose([\n",
    "    transforms.ColorJitter(hue=.50, saturation=.50),\n",
    "    transforms.RandomHorizontalFlip(),\n",
    "    transforms.RandomVerticalFlip(),\n",
    "    transforms.RandomRotation(50, resample=PIL.Image.BILINEAR),\n",
    "    transforms.ToTensor(),\n",
    "    transforms.Normalize(mean=[0.43,0.44,0.47],\n",
    "                       std=[0.20,0.20,0.20])                           \n",
    "])\n",
    "\n",
    "# Create augmented train dataset\n",
    "data_aug_train = dset.SVHN('data/', \n",
    "                       transform=tfs\n",
    "                      )\n",
    "\n",
    "train_aug_loader = torch.utils.data.DataLoader(data_aug_train, batch_size=batch_size, \n",
    "                                           sampler=train_sampler)"
   ]
  },
  {
   "cell_type": "markdown",
   "metadata": {},
   "source": [
    "Визуализируем результаты агментации (вообще, смотреть на сгенерированные данные всегда очень полезно)."
   ]
  },
  {
   "cell_type": "code",
   "execution_count": 9,
   "metadata": {
    "colab": {},
    "colab_type": "code",
    "id": "YlJJEro1KZ45"
   },
   "outputs": [
    {
     "data": {
      "image/png": "[encoded data removed]",
      "text/plain": [
       "<Figure size 2160x216 with 10 Axes>"
      ]
     },
     "metadata": {
      "needs_background": "light"
     },
     "output_type": "display_data"
    }
   ],
   "source": [
    "# TODO: Visualize some augmented images!\n",
    "# hint: you can create new datasets and loaders to accomplish this\n",
    "\n",
    "# Based on the visualizations, should we keep all the augmentations?\n",
    "\n",
    "tfs = transforms.Compose([\n",
    "    transforms.ColorJitter(hue=.20, saturation=.20),\n",
    "    transforms.RandomHorizontalFlip(),\n",
    "    transforms.RandomVerticalFlip(),\n",
    "    transforms.RandomRotation(10, resample=PIL.Image.BILINEAR),\n",
    "])\n",
    "\n",
    "data_aug_vis = dset.SVHN('data/', \n",
    "                       transform=tfs\n",
    "                      )\n",
    "\n",
    "plt.figure(figsize=(30, 3))\n",
    "\n",
    "for i, (x, y) in enumerate(data_aug_vis):\n",
    "    if i == 10:\n",
    "        break\n",
    "    plt.subplot(1, 10, i+1)\n",
    "    plt.grid(False)\n",
    "    plt.imshow(x)\n",
    "    plt.axis('off')"
   ]
  },
  {
   "cell_type": "markdown",
   "metadata": {
    "colab_type": "text",
    "id": "o2LrmsYHoguB"
   },
   "source": [
    "Все ли агментации одинаково полезны на этом наборе данных? Могут ли быть среди них те, которые собьют модель с толку?\n",
    "\n",
    "Выберите из них только корректные"
   ]
  },
  {
   "cell_type": "code",
   "execution_count": 10,
   "metadata": {
    "colab": {},
    "colab_type": "code",
    "id": "evro9ksXGs9u"
   },
   "outputs": [],
   "source": [
    "# TODO: \n",
    "tfs = transforms.Compose([\n",
    "    transforms.ColorJitter(hue=.20, saturation=.20),\n",
    "    transforms.RandomRotation(10, resample=PIL.Image.BILINEAR),\n",
    "    transforms.ToTensor(),\n",
    "    transforms.Normalize(mean=[0.43,0.44,0.47],\n",
    "                       std=[0.20,0.20,0.20])                           \n",
    "])\n",
    "\n",
    "# TODO create new instances of loaders with the augmentations you chose\n",
    "data_train_aug = dset.SVHN('data/', transform=tfs)\n",
    "\n",
    "batch_size = 64\n",
    "\n",
    "data_size = data_train_aug.data.shape[0]\n",
    "validation_split = .2\n",
    "split = int(np.floor(validation_split * data_size))\n",
    "indices = list(range(data_size))\n",
    "np.random.shuffle(indices)\n",
    "\n",
    "train_indices, val_indices = indices[split:], indices[:split]\n",
    "\n",
    "train_sampler = SubsetRandomSampler(train_indices)\n",
    "val_sampler = SubsetRandomSampler(val_indices)\n",
    "\n",
    "train_aug_loader = torch.utils.data.DataLoader(data_train_aug, batch_size=batch_size, \n",
    "                                           sampler=train_sampler)\n",
    "val_loader = torch.utils.data.DataLoader(data_train, batch_size=batch_size,\n",
    "                                         sampler=val_sampler)"
   ]
  },
  {
   "cell_type": "code",
   "execution_count": 38,
   "metadata": {
    "colab": {},
    "colab_type": "code",
    "id": "PeO6Zw0DHqPR"
   },
   "outputs": [
    {
     "name": "stdout",
     "output_type": "stream",
     "text": [
      "Average loss: 0.984505, Train accuracy: 0.684998, Val accuracy: 0.716470\n",
      "Average loss: 0.721560, Train accuracy: 0.776593, Val accuracy: 0.807931\n",
      "Average loss: 0.643498, Train accuracy: 0.803774, Val accuracy: 0.790663\n",
      "Average loss: 0.600769, Train accuracy: 0.818363, Val accuracy: 0.811753\n",
      "Average loss: 0.570214, Train accuracy: 0.826963, Val accuracy: 0.825063\n"
     ]
    }
   ],
   "source": [
    "# Finally, let's train with augmentations!\n",
    "\n",
    "# Note we shouldn't use augmentations on validation\n",
    "\n",
    "loss_history, train_history, val_history = train_model(nn_model, train_aug_loader, val_loader, loss, optimizer, 5)"
   ]
  },
  {
   "cell_type": "markdown",
   "metadata": {
    "colab_type": "text",
    "id": "r0bcioK6JBDK"
   },
   "source": [
    "# LeNet\n",
    "Попробуем имплементировать классическую архитектуру сверточной нейронной сети, предложенную Яном ЛеКуном в 1998 году. В свое время она достигла впечатляющих результатов на MNIST, посмотрим как она справится с SVHN?\n",
    "Она описана в статье [\"Gradient Based Learning Applied to Document Recognition\"](http://yann.lecun.com/exdb/publis/pdf/lecun-01a.pdf), попробуйте прочитать ключевые части и имплементировать предложенную архитетуру на PyTorch.\n",
    "\n",
    "Реализовывать слои и функцию ошибки LeNet, которых нет в PyTorch, **не нужно** - просто возьмите их размеры и переведите в уже известные нам Convolutional, Pooling и Fully Connected layers.\n",
    "\n",
    "Если в статье не очень понятно, можно просто погуглить LeNet и разобраться в деталях :)"
   ]
  },
  {
   "cell_type": "code",
   "execution_count": 42,
   "metadata": {
    "colab": {},
    "colab_type": "code",
    "id": "ieEzZUglJAUB"
   },
   "outputs": [
    {
     "name": "stdout",
     "output_type": "stream",
     "text": [
      "Average loss: 1017.881531, Train accuracy: 0.289066, Val accuracy: 0.512730\n",
      "Average loss: 1.332206, Train accuracy: 0.599068, Val accuracy: 0.651150\n",
      "Average loss: 1.079823, Train accuracy: 0.686466, Val accuracy: 0.729711\n",
      "Average loss: 1.462811, Train accuracy: 0.704433, Val accuracy: 0.776329\n",
      "Average loss: 0.786654, Train accuracy: 0.771525, Val accuracy: 0.786158\n",
      "Average loss: 0.818669, Train accuracy: 0.760878, Val accuracy: 0.776124\n",
      "Average loss: 0.888294, Train accuracy: 0.743269, Val accuracy: 0.772166\n",
      "Average loss: 0.923322, Train accuracy: 0.730676, Val accuracy: 0.734557\n",
      "Average loss: 0.954022, Train accuracy: 0.721820, Val accuracy: 0.736946\n",
      "Average loss: 0.967997, Train accuracy: 0.714432, Val accuracy: 0.717357\n"
     ]
    }
   ],
   "source": [
    "# TODO: Implement LeNet-like architecture for SVHN task\n",
    "lenet_model = nn.Sequential(\n",
    "                nn.Conv2d(3, 6, 5, padding=0),\n",
    "                nn.MaxPool2d(2),\n",
    "                nn.Conv2d(6, 16, 5, padding=0),\n",
    "                nn.MaxPool2d(2),   \n",
    "                Flattener(),\n",
    "                nn.Linear(16*5*5, 120),\n",
    "                nn.Linear(120, 84),\n",
    "                nn.Linear(84, 10),\n",
    "              )\n",
    "\n",
    "lenet_model.type(torch.cuda.FloatTensor)\n",
    "lenet_model.to(device)\n",
    "\n",
    "loss = nn.CrossEntropyLoss().type(torch.cuda.FloatTensor)\n",
    "optimizer = optim.Adam(lenet_model.parameters(), betas=(0.9, 0.999), lr=1e-1, weight_decay=1e-4)\n",
    "# optimizer = optim.SGD(lenet_model.parameters(), lr=1e-1, weight_decay=1e-4)\n",
    "\n",
    "loss_history, train_history, val_history = train_model(lenet_model, train_aug_loader, val_loader, loss, optimizer, 5)"
   ]
  },
  {
   "cell_type": "markdown",
   "metadata": {
    "colab_type": "text",
    "id": "u_O9qiYySvuj"
   },
   "source": [
    "# Подбор гиперпараметров"
   ]
  },
  {
   "cell_type": "code",
   "execution_count": 54,
   "metadata": {
    "colab": {},
    "colab_type": "code",
    "id": "i6mhfdQ9K-N3",
    "scrolled": true
   },
   "outputs": [
    {
     "name": "stdout",
     "output_type": "stream",
     "text": [
      "Average loss: 1.924078, Train accuracy: 0.320360, Val accuracy: 0.569586\n",
      "Average loss: 1.089735, Train accuracy: 0.652629, Val accuracy: 0.743908\n",
      "Average loss: 0.785007, Train accuracy: 0.762482, Val accuracy: 0.800423\n",
      "Average loss: 0.751364, Train accuracy: 0.798024, Val accuracy: 0.806771\n",
      "Average loss: 1.106840, Train accuracy: 0.675511, Val accuracy: 0.579960\n",
      "Average loss: 1.883171, Train accuracy: 0.520134, Val accuracy: 0.554501\n",
      "Average loss: 1.841990, Train accuracy: 0.498089, Val accuracy: 0.458399\n",
      "Average loss: 2.255154, Train accuracy: 0.390438, Val accuracy: 0.346256\n",
      "Average loss: 43.306957, Train accuracy: 0.245299, Val accuracy: 0.200874\n",
      "Average loss: 22414.300781, Train accuracy: 0.136471, Val accuracy: 0.083749\n",
      "Average loss: 5617041513653877313130035245219840.000000, Train accuracy: 0.108453, Val accuracy: 0.095557\n",
      "Average loss: nan, Train accuracy: 0.068099, Val accuracy: 0.066071\n",
      "Average loss: nan, Train accuracy: 0.067911, Val accuracy: 0.066071\n",
      "Average loss: nan, Train accuracy: 0.067911, Val accuracy: 0.066071\n",
      "Average loss: nan, Train accuracy: 0.067911, Val accuracy: 0.066071\n",
      "Average loss: nan, Train accuracy: 0.067911, Val accuracy: 0.066071\n",
      "Average loss: nan, Train accuracy: 0.067911, Val accuracy: 0.066071\n",
      "Average loss: nan, Train accuracy: 0.067911, Val accuracy: 0.066071\n",
      "Average loss: nan, Train accuracy: 0.067911, Val accuracy: 0.066071\n",
      "Average loss: nan, Train accuracy: 0.067911, Val accuracy: 0.066071\n",
      "Average loss: 1.051182, Train accuracy: 0.680493, Val accuracy: 0.790799\n",
      "Average loss: 0.901856, Train accuracy: 0.744821, Val accuracy: 0.776193\n",
      "Average loss: 0.902693, Train accuracy: 0.747790, Val accuracy: 0.797898\n",
      "Average loss: 0.908922, Train accuracy: 0.746715, Val accuracy: 0.786909\n",
      "Average loss: 0.911129, Train accuracy: 0.748097, Val accuracy: 0.649580\n",
      "Average loss: 0.911682, Train accuracy: 0.746203, Val accuracy: 0.777353\n",
      "Average loss: 0.925514, Train accuracy: 0.746681, Val accuracy: 0.770801\n",
      "Average loss: 0.963426, Train accuracy: 0.738150, Val accuracy: 0.677360\n",
      "Average loss: 0.948925, Train accuracy: 0.744412, Val accuracy: 0.754829\n",
      "Average loss: 0.932540, Train accuracy: 0.745930, Val accuracy: 0.666030\n",
      "Average loss: 1.149565, Train accuracy: 0.627700, Val accuracy: 0.820354\n",
      "Average loss: 0.569394, Train accuracy: 0.832560, Val accuracy: 0.858644\n",
      "Average loss: 0.470188, Train accuracy: 0.861977, Val accuracy: 0.869360\n",
      "Average loss: 0.419755, Train accuracy: 0.875183, Val accuracy: 0.880076\n",
      "Average loss: 0.382342, Train accuracy: 0.886530, Val accuracy: 0.889086\n",
      "Average loss: 0.360794, Train accuracy: 0.892639, Val accuracy: 0.891270\n",
      "Average loss: 0.344116, Train accuracy: 0.896052, Val accuracy: 0.891885\n",
      "Average loss: 0.329487, Train accuracy: 0.901904, Val accuracy: 0.895092\n",
      "Average loss: 0.317912, Train accuracy: 0.905368, Val accuracy: 0.896458\n",
      "Average loss: 0.310049, Train accuracy: 0.908354, Val accuracy: 0.893796\n",
      "Average loss: 203659.437500, Train accuracy: 0.144951, Val accuracy: 0.111119\n",
      "Average loss: 2.309316, Train accuracy: 0.168839, Val accuracy: 0.189885\n",
      "Average loss: 2.326256, Train accuracy: 0.164727, Val accuracy: 0.095830\n",
      "Average loss: 2.486686, Train accuracy: 0.166178, Val accuracy: 0.111119\n",
      "Average loss: 2.697802, Train accuracy: 0.161383, Val accuracy: 0.101973\n",
      "Average loss: 2.765369, Train accuracy: 0.154114, Val accuracy: 0.189885\n",
      "Average loss: 3.262305, Train accuracy: 0.157015, Val accuracy: 0.145656\n",
      "Average loss: 2.325487, Train accuracy: 0.162867, Val accuracy: 0.095830\n",
      "Average loss: 3.417854, Train accuracy: 0.166536, Val accuracy: 0.145656\n",
      "Average loss: 2.801282, Train accuracy: 0.160410, Val accuracy: 0.145656\n",
      "Average loss: 167624867840.000000, Train accuracy: 0.145531, Val accuracy: 0.189885\n",
      "Average loss: 5234517.000000, Train accuracy: 0.149763, Val accuracy: 0.095830\n",
      "Average loss: 4462171.000000, Train accuracy: 0.117326, Val accuracy: 0.101973\n",
      "Average loss: 8914401.000000, Train accuracy: 0.125328, Val accuracy: 0.189885\n",
      "Average loss: 7046865.000000, Train accuracy: 0.139525, Val accuracy: 0.111119\n",
      "Average loss: 1163.689087, Train accuracy: 0.093216, Val accuracy: 0.095830\n",
      "Average loss: 1098.164307, Train accuracy: 0.075863, Val accuracy: 0.081223\n",
      "Average loss: 945.735779, Train accuracy: 0.111286, Val accuracy: 0.063067\n",
      "Average loss: 886.546204, Train accuracy: 0.098471, Val accuracy: 0.101973\n",
      "Average loss: 3374390.750000, Train accuracy: 0.125004, Val accuracy: 0.066071\n",
      "Average loss: 83477.187500, Train accuracy: 0.159864, Val accuracy: 0.189885\n",
      "Average loss: 2.478707, Train accuracy: 0.159984, Val accuracy: 0.145656\n",
      "Average loss: 3.003013, Train accuracy: 0.159011, Val accuracy: 0.111119\n",
      "Average loss: 256923.906250, Train accuracy: 0.159421, Val accuracy: 0.189885\n",
      "Average loss: 11590.934570, Train accuracy: 0.156946, Val accuracy: 0.189885\n",
      "Average loss: 446666.781250, Train accuracy: 0.161212, Val accuracy: 0.189885\n",
      "Average loss: 1239.261353, Train accuracy: 0.157219, Val accuracy: 0.189885\n",
      "Average loss: 458577.343750, Train accuracy: 0.157424, Val accuracy: 0.189885\n",
      "Average loss: 697439.125000, Train accuracy: 0.159148, Val accuracy: 0.145656\n",
      "Average loss: 72607.031250, Train accuracy: 0.159130, Val accuracy: 0.189885\n",
      "Average loss: 1.089690, Train accuracy: 0.648995, Val accuracy: 0.772439\n",
      "Average loss: 0.755050, Train accuracy: 0.771559, Val accuracy: 0.781448\n",
      "Average loss: 0.739338, Train accuracy: 0.777275, Val accuracy: 0.782609\n",
      "Average loss: 0.725138, Train accuracy: 0.781934, Val accuracy: 0.810320\n",
      "Average loss: 0.721212, Train accuracy: 0.781678, Val accuracy: 0.805065\n",
      "Average loss: 0.716514, Train accuracy: 0.785500, Val accuracy: 0.796464\n",
      "Average loss: 0.720434, Train accuracy: 0.784186, Val accuracy: 0.792574\n",
      "Average loss: 0.713539, Train accuracy: 0.786728, Val accuracy: 0.789229\n",
      "Average loss: 0.716638, Train accuracy: 0.786575, Val accuracy: 0.804314\n",
      "Average loss: 0.714102, Train accuracy: 0.787308, Val accuracy: 0.796396\n",
      "Average loss: 23.481926, Train accuracy: 0.166843, Val accuracy: 0.147498\n",
      "Average loss: 36.264675, Train accuracy: 0.164249, Val accuracy: 0.189885\n",
      "Average loss: 63.945908, Train accuracy: 0.155598, Val accuracy: 0.081360\n",
      "Average loss: 94.965179, Train accuracy: 0.155888, Val accuracy: 0.189953\n",
      "Average loss: 175.257034, Train accuracy: 0.154984, Val accuracy: 0.066071\n",
      "Average loss: 89.426895, Train accuracy: 0.150224, Val accuracy: 0.189270\n",
      "Average loss: 35.219769, Train accuracy: 0.144968, Val accuracy: 0.143881\n",
      "Average loss: 86.418350, Train accuracy: 0.148176, Val accuracy: 0.189748\n",
      "Average loss: 96.119690, Train accuracy: 0.153431, Val accuracy: 0.102177\n",
      "Average loss: 54.393841, Train accuracy: 0.146657, Val accuracy: 0.145656\n",
      "Average loss: 1.592766, Train accuracy: 0.453657, Val accuracy: 0.614839\n",
      "Average loss: 1.083116, Train accuracy: 0.660649, Val accuracy: 0.722408\n",
      "Average loss: 0.966916, Train accuracy: 0.701566, Val accuracy: 0.721521\n",
      "Average loss: 0.850773, Train accuracy: 0.743832, Val accuracy: 0.769572\n",
      "Average loss: 0.817468, Train accuracy: 0.753967, Val accuracy: 0.773804\n",
      "Average loss: 0.801967, Train accuracy: 0.760246, Val accuracy: 0.770118\n",
      "Average loss: 0.789521, Train accuracy: 0.765007, Val accuracy: 0.786294\n",
      "Average loss: 0.771269, Train accuracy: 0.771900, Val accuracy: 0.772848\n",
      "Average loss: 0.767602, Train accuracy: 0.772327, Val accuracy: 0.799195\n",
      "Average loss: 0.767022, Train accuracy: 0.772600, Val accuracy: 0.778923\n",
      "Average loss: 204962.375000, Train accuracy: 0.123400, Val accuracy: 0.145656\n",
      "Average loss: 31931484160.000000, Train accuracy: 0.117804, Val accuracy: 0.095830\n",
      "Average loss: 44009795878912.000000, Train accuracy: 0.131028, Val accuracy: 0.189202\n",
      "Average loss: 508329512140800.000000, Train accuracy: 0.111422, Val accuracy: 0.189407\n",
      "Average loss: 87416835175088128.000000, Train accuracy: 0.122240, Val accuracy: 0.189748\n",
      "Average loss: 109200874940661760.000000, Train accuracy: 0.106115, Val accuracy: 0.070166\n",
      "Average loss: 1333366068692910080.000000, Train accuracy: 0.104170, Val accuracy: 0.063204\n",
      "Average loss: 227760174519101161472.000000, Train accuracy: 0.133280, Val accuracy: 0.189543\n",
      "Average loss: 48476377093846574563328.000000, Train accuracy: 0.084070, Val accuracy: 0.066412\n",
      "Average loss: 17692832488888475844608.000000, Train accuracy: 0.097942, Val accuracy: 0.101836\n"
     ]
    },
    {
     "name": "stdout",
     "output_type": "stream",
     "text": [
      "Average loss: 79851400.000000, Train accuracy: 0.164778, Val accuracy: 0.189816\n",
      "Average loss: 104855111100811706368.000000, Train accuracy: 0.158721, Val accuracy: 0.181285\n",
      "Average loss: 544874810360056042749952.000000, Train accuracy: 0.154114, Val accuracy: 0.145656\n",
      "Average loss: 627601756174397854449664.000000, Train accuracy: 0.177849, Val accuracy: 0.189748\n",
      "Average loss: 895601962799961330417664.000000, Train accuracy: 0.173293, Val accuracy: 0.081428\n",
      "Average loss: 805627464177284726915072.000000, Train accuracy: 0.166809, Val accuracy: 0.189748\n",
      "Average loss: 2748027605561576400093184.000000, Train accuracy: 0.182831, Val accuracy: 0.145587\n",
      "Average loss: 214375368264729696709640192.000000, Train accuracy: 0.122564, Val accuracy: 0.101973\n",
      "Average loss: 378517743659554259869892608.000000, Train accuracy: 0.101833, Val accuracy: 0.101973\n",
      "Average loss: 378058825560488513644789760.000000, Train accuracy: 0.101781, Val accuracy: 0.101973\n",
      "Average loss: 75369.031250, Train accuracy: 0.149865, Val accuracy: 0.111187\n",
      "Average loss: 80538502703034798780457878028288.000000, Train accuracy: 0.161332, Val accuracy: 0.182104\n",
      "Average loss: 21086736385376560549957459268075520.000000, Train accuracy: 0.160393, Val accuracy: 0.167429\n",
      "Average loss: nan, Train accuracy: 0.085367, Val accuracy: 0.066071\n",
      "Average loss: nan, Train accuracy: 0.067911, Val accuracy: 0.066071\n",
      "Average loss: nan, Train accuracy: 0.067911, Val accuracy: 0.066071\n",
      "Average loss: nan, Train accuracy: 0.067911, Val accuracy: 0.066071\n",
      "Average loss: nan, Train accuracy: 0.067911, Val accuracy: 0.066071\n",
      "Average loss: nan, Train accuracy: 0.067911, Val accuracy: 0.066071\n",
      "Average loss: nan, Train accuracy: 0.067911, Val accuracy: 0.066071\n",
      "Average loss: 2.086483, Train accuracy: 0.272105, Val accuracy: 0.491093\n",
      "Average loss: 1.295212, Train accuracy: 0.592107, Val accuracy: 0.682069\n",
      "Average loss: 0.984423, Train accuracy: 0.703170, Val accuracy: 0.746297\n",
      "Average loss: 0.842375, Train accuracy: 0.750537, Val accuracy: 0.784725\n",
      "Average loss: 0.755521, Train accuracy: 0.778657, Val accuracy: 0.805952\n",
      "Average loss: 0.699152, Train accuracy: 0.796215, Val accuracy: 0.821787\n",
      "Average loss: 0.654627, Train accuracy: 0.810361, Val accuracy: 0.829704\n",
      "Average loss: 0.619845, Train accuracy: 0.820104, Val accuracy: 0.836393\n",
      "Average loss: 0.593617, Train accuracy: 0.828055, Val accuracy: 0.839601\n",
      "Average loss: 0.570803, Train accuracy: 0.834351, Val accuracy: 0.848270\n",
      "Average loss: 139844101603328.000000, Train accuracy: 0.143740, Val accuracy: 0.189885\n",
      "Average loss: 59601097957834752.000000, Train accuracy: 0.098318, Val accuracy: 0.074944\n",
      "Average loss: 62284340121305088.000000, Train accuracy: 0.119305, Val accuracy: 0.074944\n",
      "Average loss: nan, Train accuracy: 0.107395, Val accuracy: 0.066071\n",
      "Average loss: nan, Train accuracy: 0.067911, Val accuracy: 0.066071\n",
      "Average loss: nan, Train accuracy: 0.067911, Val accuracy: 0.066071\n",
      "Average loss: nan, Train accuracy: 0.067911, Val accuracy: 0.066071\n",
      "Average loss: nan, Train accuracy: 0.067911, Val accuracy: 0.066071\n",
      "Average loss: nan, Train accuracy: 0.067911, Val accuracy: 0.066071\n",
      "Average loss: nan, Train accuracy: 0.067911, Val accuracy: 0.066071\n",
      "Average loss: 2.191135, Train accuracy: 0.215183, Val accuracy: 0.361750\n",
      "Average loss: 1.577215, Train accuracy: 0.463946, Val accuracy: 0.596342\n",
      "Average loss: 1.102236, Train accuracy: 0.656213, Val accuracy: 0.723978\n",
      "Average loss: 0.865521, Train accuracy: 0.739788, Val accuracy: 0.779196\n",
      "Average loss: 0.757855, Train accuracy: 0.777736, Val accuracy: 0.803358\n",
      "Average loss: 0.698327, Train accuracy: 0.795942, Val accuracy: 0.819944\n",
      "Average loss: 0.652358, Train accuracy: 0.809269, Val accuracy: 0.822879\n",
      "Average loss: 0.621251, Train accuracy: 0.817937, Val accuracy: 0.836735\n",
      "Average loss: 0.591187, Train accuracy: 0.828704, Val accuracy: 0.842741\n",
      "Average loss: 0.563399, Train accuracy: 0.836501, Val accuracy: 0.848748\n",
      "Average loss: 84188078080.000000, Train accuracy: 0.114510, Val accuracy: 0.095830\n",
      "Average loss: 3137705728.000000, Train accuracy: 0.097157, Val accuracy: 0.066071\n",
      "Average loss: 958.146851, Train accuracy: 0.080777, Val accuracy: 0.095830\n",
      "Average loss: 862.461243, Train accuracy: 0.143654, Val accuracy: 0.145656\n",
      "Average loss: 699.260254, Train accuracy: 0.155052, Val accuracy: 0.101973\n",
      "Average loss: 598.071045, Train accuracy: 0.078166, Val accuracy: 0.063067\n",
      "Average loss: 470.366272, Train accuracy: 0.093864, Val accuracy: 0.189885\n",
      "Average loss: 16484919.000000, Train accuracy: 0.130157, Val accuracy: 0.145656\n",
      "Average loss: 410.965271, Train accuracy: 0.118043, Val accuracy: 0.189885\n",
      "Average loss: 319.978455, Train accuracy: 0.149012, Val accuracy: 0.063067\n",
      "Average loss: 1.140926, Train accuracy: 0.636727, Val accuracy: 0.723841\n",
      "Average loss: 0.892434, Train accuracy: 0.741136, Val accuracy: 0.782267\n",
      "Average loss: 0.840950, Train accuracy: 0.760178, Val accuracy: 0.746161\n",
      "Average loss: 0.793495, Train accuracy: 0.775040, Val accuracy: 0.779810\n",
      "Average loss: 0.770946, Train accuracy: 0.782497, Val accuracy: 0.775647\n",
      "Average loss: 0.776389, Train accuracy: 0.786489, Val accuracy: 0.821582\n",
      "Average loss: 0.749871, Train accuracy: 0.790141, Val accuracy: 0.811617\n",
      "Average loss: 0.755485, Train accuracy: 0.790158, Val accuracy: 0.786499\n",
      "Average loss: 0.760726, Train accuracy: 0.792871, Val accuracy: 0.819057\n",
      "Average loss: 0.750140, Train accuracy: 0.791984, Val accuracy: 0.841513\n",
      "Average loss: 2.230914, Train accuracy: 0.189042, Val accuracy: 0.190089\n",
      "Average loss: 2.031463, Train accuracy: 0.268078, Val accuracy: 0.388779\n",
      "Average loss: 1.641071, Train accuracy: 0.457206, Val accuracy: 0.545424\n",
      "Average loss: 1.317725, Train accuracy: 0.578883, Val accuracy: 0.643369\n",
      "Average loss: 1.104980, Train accuracy: 0.655035, Val accuracy: 0.704525\n",
      "Average loss: 0.927985, Train accuracy: 0.720523, Val accuracy: 0.753873\n",
      "Average loss: 0.807582, Train accuracy: 0.760008, Val accuracy: 0.787591\n",
      "Average loss: 0.734367, Train accuracy: 0.785227, Val accuracy: 0.802607\n",
      "Average loss: 0.683142, Train accuracy: 0.802751, Val accuracy: 0.813255\n",
      "Average loss: 0.649435, Train accuracy: 0.812323, Val accuracy: 0.822128\n",
      "Average loss: 30039.052734, Train accuracy: 0.155257, Val accuracy: 0.081223\n",
      "Average loss: 1274153218428889997508608.000000, Train accuracy: 0.085537, Val accuracy: 0.080609\n",
      "Average loss: nan, Train accuracy: 0.086322, Val accuracy: 0.066071\n",
      "Average loss: nan, Train accuracy: 0.067911, Val accuracy: 0.066071\n",
      "Average loss: nan, Train accuracy: 0.067911, Val accuracy: 0.066071\n",
      "Average loss: nan, Train accuracy: 0.067911, Val accuracy: 0.066071\n",
      "Average loss: nan, Train accuracy: 0.067911, Val accuracy: 0.066071\n",
      "Average loss: nan, Train accuracy: 0.067911, Val accuracy: 0.066071\n",
      "Average loss: nan, Train accuracy: 0.067911, Val accuracy: 0.066071\n",
      "Average loss: nan, Train accuracy: 0.067911, Val accuracy: 0.066071\n"
     ]
    }
   ],
   "source": [
    "Hyperparams = namedtuple(\"Hyperparams\", ['learning_rate', 'alpha', 'beta', 'reg'])\n",
    "RunResult = namedtuple(\"RunResult\", ['model', 'train_history', 'val_history', 'final_val_accuracy'])\n",
    "\n",
    "learning_rates = [1e0, 1e-1, 1e-2, 1e-3, 1e-4]\n",
    "alphas = [0.5, 0.7, 0.9, 0.99, 0.999]\n",
    "betas = [0.5, 0.7, 0.9, 0.99, 0.999]\n",
    "reg = [1e-3, 1e-4, 1e-5, 1e-6, 1e-7]\n",
    "\n",
    "batch_size = 64\n",
    "epoch_num = 10\n",
    "\n",
    "train_aug_loader = torch.utils.data.DataLoader(data_train_aug, batch_size=batch_size, sampler=train_sampler)\n",
    "val_loader = torch.utils.data.DataLoader(data_train, batch_size=batch_size, sampler=val_sampler)\n",
    "\n",
    "random_params = list(itertools.product(learning_rates, alphas, betas, reg))\n",
    "np.random.shuffle(random_params)\n",
    "\n",
    "run_record = {} \n",
    "\n",
    "for i in random_params[:20]:\n",
    "    hyperparams = Hyperparams(i[0], i[1], i[2], i[3])\n",
    "    \n",
    "    lenet_model = nn.Sequential(\n",
    "                nn.Conv2d(3, 6, 5, padding=0),\n",
    "                nn.ReLU(inplace=True),\n",
    "                nn.MaxPool2d(2),\n",
    "                nn.Conv2d(6, 16, 5, padding=0),\n",
    "                nn.ReLU(inplace=True),\n",
    "                nn.MaxPool2d(2),   \n",
    "                Flattener(),\n",
    "                nn.Linear(16*5*5, 120),\n",
    "                nn.ReLU(inplace=True),\n",
    "                nn.Linear(120, 84),\n",
    "                nn.ReLU(inplace=True),\n",
    "                nn.Linear(84, 10),\n",
    "              )\n",
    "\n",
    "    lenet_model.type(torch.cuda.FloatTensor)\n",
    "    lenet_model.to(device)\n",
    "\n",
    "    loss = nn.CrossEntropyLoss().type(torch.cuda.FloatTensor)\n",
    "    optimizer = optim.Adam(lenet_model.parameters(), betas=(hyperparams.alpha, hyperparams.beta), \n",
    "                           lr=hyperparams.learning_rate, weight_decay=hyperparams.reg)\n",
    "    loss_history, train_history, val_history = train_model(lenet_model, train_aug_loader, val_loader, loss, \n",
    "                                                           optimizer, epoch_num)\n",
    "    \n",
    "    runresult = RunResult(lenet_model, train_history, val_history, val_history[epoch_num-1])\n",
    "    run_record[hyperparams] = runresult\n",
    "    "
   ]
  },
  {
   "cell_type": "code",
   "execution_count": 55,
   "metadata": {
    "colab": {
     "base_uri": "https://localhost:8080/",
     "height": 34
    },
    "colab_type": "code",
    "id": "Y6xExdw8JB1l",
    "outputId": "a9ad86f8-3e29-45cc-d33f-e6170018a4ed"
   },
   "outputs": [
    {
     "name": "stdout",
     "output_type": "stream",
     "text": [
      "Best validation accuracy: 0.89, best hyperparams: Hyperparams(learning_rate=0.001, alpha=0.7, beta=0.9, reg=1e-06)\n"
     ]
    }
   ],
   "source": [
    "best_val_accuracy = None\n",
    "best_hyperparams = None\n",
    "best_run = None\n",
    "\n",
    "for hyperparams, run_result in run_record.items():\n",
    "    if best_val_accuracy is None or best_val_accuracy < run_result.final_val_accuracy:\n",
    "        best_val_accuracy = run_result.final_val_accuracy\n",
    "        best_hyperparams = hyperparams\n",
    "        best_run = run_result\n",
    "        \n",
    "print(\"Best validation accuracy: %4.2f, best hyperparams: %s\" % (best_val_accuracy, best_hyperparams))\n",
    "        "
   ]
  },
  {
   "cell_type": "markdown",
   "metadata": {
    "colab_type": "text",
    "id": "LOmsR0uVgtgf"
   },
   "source": [
    "# Свободное упражнение - догоним и перегоним LeNet!\n",
    "\n",
    "Попробуйте найти архитектуру и настройки тренировки, чтобы выступить лучше наших бейзлайнов.\n",
    "\n",
    "Что можно и нужно попробовать:\n",
    "- BatchNormalization (для convolution layers он в PyTorch называется [batchnorm2d](https://pytorch.org/docs/stable/nn.html#batchnorm2d))\n",
    "- Изменить количество слоев и их толщину\n",
    "- Изменять количество эпох тренировки\n",
    "- Попробовать и другие агментации"
   ]
  },
  {
   "cell_type": "code",
   "execution_count": 40,
   "metadata": {
    "scrolled": false
   },
   "outputs": [
    {
     "name": "stdout",
     "output_type": "stream",
     "text": [
      "Average loss: 0.720684, Train accuracy: 0.766014, Val accuracy: 0.873729\n",
      "Average loss: 0.413582, Train accuracy: 0.870030, Val accuracy: 0.893113\n",
      "Average loss: 0.355170, Train accuracy: 0.889704, Val accuracy: 0.904307\n",
      "Average loss: 0.319847, Train accuracy: 0.902655, Val accuracy: 0.909494\n",
      "Average loss: 0.289157, Train accuracy: 0.911135, Val accuracy: 0.910996\n",
      "Average loss: 0.273348, Train accuracy: 0.916527, Val accuracy: 0.912088\n",
      "Average loss: 0.251792, Train accuracy: 0.923779, Val accuracy: 0.916183\n",
      "Average loss: 0.238028, Train accuracy: 0.927243, Val accuracy: 0.913931\n",
      "Average loss: 0.222873, Train accuracy: 0.931321, Val accuracy: 0.919323\n",
      "Average loss: 0.217773, Train accuracy: 0.933300, Val accuracy: 0.920620\n"
     ]
    },
    {
     "data": {
      "text/plain": [
       "[<matplotlib.lines.Line2D at 0x7f65040dce20>]"
      ]
     },
     "execution_count": 40,
     "metadata": {},
     "output_type": "execute_result"
    },
    {
     "data": {
      "image/png": "[encoded data removed]",
      "text/plain": [
       "<Figure size 432x288 with 1 Axes>"
      ]
     },
     "metadata": {
      "needs_background": "light"
     },
     "output_type": "display_data"
    }
   ],
   "source": [
    "epoch_num = 10\n",
    "\n",
    "best_model6 = nn.Sequential(\n",
    "                nn.Conv2d(3, 14, 5, padding=2),\n",
    "                nn.ReLU(inplace=True),\n",
    "                nn.BatchNorm2d(14),\n",
    "                nn.MaxPool2d(2),\n",
    "                nn.Conv2d(14, 24, 5, padding=2),\n",
    "                nn.ReLU(inplace=True),\n",
    "                nn.BatchNorm2d(24),\n",
    "                nn.MaxPool2d(2),\n",
    "                nn.Conv2d(24, 28, 5, padding=2),\n",
    "                nn.ReLU(inplace=True),\n",
    "                nn.BatchNorm2d(28),\n",
    "                nn.MaxPool2d(2),\n",
    "                Flattener(),\n",
    "                nn.Linear(28*4*4, 240),\n",
    "                nn.ReLU(inplace=True),\n",
    "                nn.BatchNorm1d(240),\n",
    "                nn.Linear(240, 120),\n",
    "                nn.ReLU(inplace=True),\n",
    "                nn.Linear(120, 10),\n",
    "              )\n",
    "\n",
    "best_model6.type(torch.cuda.FloatTensor)\n",
    "best_model6.to(device)\n",
    "\n",
    "loss = nn.CrossEntropyLoss().type(torch.cuda.FloatTensor)\n",
    "optimizer = optim.Adam(best_model6.parameters(), betas=(0.9, 0.999), lr=0.001, weight_decay=1e-06)\n",
    "loss_history, train_history, val_history = train_model(best_model6, train_aug_loader, val_loader, loss, \n",
    "                                                       optimizer, epoch_num)\n",
    "\n",
    "plt.plot(train_history)\n",
    "plt.plot(val_history)"
   ]
  },
  {
   "cell_type": "markdown",
   "metadata": {
    "colab_type": "text",
    "id": "ubeKgBcnhx7N"
   },
   "source": [
    "# Финальный аккорд - проверим лучшую модель на test set\n",
    "\n",
    "В качестве разнообразия - напишите код для прогона модели на test set вы.\n",
    "\n",
    "В результате вы должны натренировать модель, которая покажет более **90%** точности на test set.  \n",
    "Как водится, лучший результат в группе получит дополнительные баллы!"
   ]
  },
  {
   "cell_type": "code",
   "execution_count": 41,
   "metadata": {},
   "outputs": [
    {
     "name": "stdout",
     "output_type": "stream",
     "text": [
      "Final test accuracy -  0.9216733251382914\n"
     ]
    }
   ],
   "source": [
    "test_loader = torch.utils.data.DataLoader(data_test, batch_size=batch_size)\n",
    "final_test_accuracy = compute_accuracy(best_model6, test_loader)\n",
    "print(\"Final test accuracy - \", final_test_accuracy)"
   ]
  }
 ],
 "metadata": {
  "accelerator": "GPU",
  "colab": {
   "collapsed_sections": [],
   "name": "PyTorch_CNN.ipynb",
   "provenance": [],
   "version": "0.3.2"
  },
  "kernelspec": {
   "display_name": "Python 3",
   "language": "python",
   "name": "python3"
  },
  "language_info": {
   "codemirror_mode": {
    "name": "ipython",
    "version": 3
   },
   "file_extension": ".py",
   "mimetype": "text/x-python",
   "name": "python",
   "nbconvert_exporter": "python",
   "pygments_lexer": "ipython3",
   "version": "3.8.2"
  }
 },
 "nbformat": 4,
 "nbformat_minor": 1
}
